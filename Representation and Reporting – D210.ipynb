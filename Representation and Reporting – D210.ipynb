{
 "cells": [
  {
   "cell_type": "markdown",
   "id": "c14685af",
   "metadata": {},
   "source": [
    "# Representation and Reporting – D210"
   ]
  },
  {
   "cell_type": "markdown",
   "id": "ad7b0e38",
   "metadata": {},
   "source": [
    "> Link to Tableau Dashboard: https://public.tableau.com/app/profile/trikerdev/viz/RepresentationandReportingD210/Story1\n",
    "\n",
    "> Link to Original Data: https://github.com/TJRiker11/Representation-and-Reporting-D210/blob/main/Original%20Data.csv\n",
    "\n",
    "> Link to External Data: https://github.com/TJRiker11/Representation-and-Reporting-D210/blob/main/External%20Data.csv"
   ]
  },
  {
   "cell_type": "markdown",
   "id": "a42ca229",
   "metadata": {},
   "source": [
    "> ## Intructions"
   ]
  },
  {
   "cell_type": "markdown",
   "id": "a65c2f6d",
   "metadata": {},
   "source": [
    "> Installation of dashboard:\n",
    "\n",
    "Option 1: Click on the above link and view the dashboard online\n",
    "\n",
    "Option 2: Click on link above\n",
    "          Download the dashboard by clicking on the download button in the top right\n",
    "          Open the downloaded dashboard with your offline Tableau App\n",
    "          \n",
    "> Navigation of Dashboard:\n",
    "\n",
    "The top tabs are all the different sheets of the report. You can click through each sheet to see different visualizations. Alternatively, leave the report on the default \"Story 1\" tab and click through the gray squares to view the full report in a compact story mode."
   ]
  },
  {
   "cell_type": "markdown",
   "id": "869ed019",
   "metadata": {},
   "source": [
    "## Answers"
   ]
  },
  {
   "cell_type": "markdown",
   "id": "7579dfcf",
   "metadata": {},
   "source": [
    "> 1. The purpose and function of this dashboard align with the needs outlined in the data dictionary because I used the important variables and explored certain variables from the data dictionary in the tableau report."
   ]
  },
  {
   "cell_type": "markdown",
   "id": "29e39645",
   "metadata": {},
   "source": [
    "> 2. The variables in the additional dataset help provide insights into the overall data trends because the extra data sets provide more data from different sources that can be combined and compared with the original data to provide more insights from more than one source of data. The more sources of data we have,the more likely the reports will be more correct and less chance of errors from one specific source."
   ]
  },
  {
   "cell_type": "markdown",
   "id": "b2f7f080",
   "metadata": {},
   "source": [
    "> 3. Two different data representations that show good insight into how executives could use the data are the Original and External Contract to Churn representations. These data representations show the vast majority of customers who churn are on the month-to-month contract. An executive could use this information to try and focus resources on getting customers to switch to other contract plans besides the monthly contract. Getting customers to switch off that contract type would vastly reduce the expected churn rate."
   ]
  },
  {
   "cell_type": "markdown",
   "id": "10d117eb",
   "metadata": {},
   "source": [
    "> 4. One interactive control is the world map feature. A user can zoom in and out and scroll around the map to see different locations and the churn rate of each location. Another interactive control is the state graphs which can be chosen and switched between being sorted alphabetically, numerically, reverse, etc. A user can choose what they prefer, or switch between them to see different insights."
   ]
  },
  {
   "cell_type": "markdown",
   "id": "b930a648",
   "metadata": {},
   "source": [
    "> 5. The dashboard is accessible to users with color blindness because of how the data is represented. Each piece of data, graphs, charts, maps, etc, all have the raw data numbers right next to them. So if a user is unable to see a graph, they can just look at the numbers besides the graph and get the same information from it. Each visualization has the colored 'pretty' version, but also a raw number data version."
   ]
  },
  {
   "cell_type": "markdown",
   "id": "c1dfb16e",
   "metadata": {},
   "source": [
    "> 6. Two different data representatons that support the story are the contract churn and payment method churn. I wanted to find the data that most correlates with churn, and these two factors have a clear and obvious correlation with churn rate."
   ]
  },
  {
   "cell_type": "markdown",
   "id": "55c26645",
   "metadata": {},
   "source": [
    "> 7. I used audience analysis to adapt the message by making the raw data visible to peers and those more understanding of data, but also having color coded graphs, maps, etc, to make the data understandable to others who may not have as much experience reading raw data."
   ]
  },
  {
   "cell_type": "markdown",
   "id": "cba65609",
   "metadata": {},
   "source": [
    "> 8. The dashboard is universally accessible to all audiences because of the raw data for those more experienced, color blind accessability, easy to read and understand visualizations, maps, charts, graphs, etc. A story board with all the different data visible with only a few clicks, ability to change data through interactive cotrols to suit specific users, and having instructions on getting to and understanding how to navigate the dashboard."
   ]
  },
  {
   "cell_type": "markdown",
   "id": "10b4b7b3",
   "metadata": {},
   "source": [
    "> 9. One element of effective storytelling is the theme, which in this case is Customer Churn. From start to finish, the whole report is about customer churn, starting with overall churn, and then churn compared with other variables. This engages an audience becuase they can see why and when customers churned and what correlated with that churn. The other element is the decor, in this case, the different visualizations of all the data. There are many different charts, graphs, maps, and colors. This engages an audience because it presents the data in a fun and engaging way, that is enjoyable to look at."
   ]
  },
  {
   "cell_type": "code",
   "execution_count": null,
   "id": "5cef30b3",
   "metadata": {},
   "outputs": [],
   "source": []
  }
 ],
 "metadata": {
  "kernelspec": {
   "display_name": "Python 3",
   "language": "python",
   "name": "python3"
  },
  "language_info": {
   "codemirror_mode": {
    "name": "ipython",
    "version": 3
   },
   "file_extension": ".py",
   "mimetype": "text/x-python",
   "name": "python",
   "nbconvert_exporter": "python",
   "pygments_lexer": "ipython3",
   "version": "3.8.8"
  }
 },
 "nbformat": 4,
 "nbformat_minor": 5
}
